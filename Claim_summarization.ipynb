{
  "nbformat": 4,
  "nbformat_minor": 0,
  "metadata": {
    "colab": {
      "name": "Claim summarization",
      "version": "0.3.2",
      "provenance": [],
      "collapsed_sections": [],
      "include_colab_link": true
    },
    "kernelspec": {
      "name": "python3",
      "display_name": "Python 3"
    }
  },
  "cells": [
    {
      "cell_type": "markdown",
      "metadata": {
        "id": "view-in-github",
        "colab_type": "text"
      },
      "source": [
        "<a href=\"https://colab.research.google.com/github/rcmckee/Summarization-of-Claims/blob/master/Claim_summarization.ipynb\" target=\"_parent\"><img src=\"https://colab.research.google.com/assets/colab-badge.svg\" alt=\"Open In Colab\"/></a>"
      ]
    },
    {
      "metadata": {
        "id": "E3nICjBQhilf",
        "colab_type": "code",
        "colab": {}
      },
      "cell_type": "code",
      "source": [
        "from gensim.summarization import summarize, keywords\n",
        "from pprint import pprint\n",
        "import pandas as pd\n",
        "import numpy as np\n",
        "import scipy.stats as scs\n",
        "import statsmodels.api as sm\n",
        "import matplotlib.pyplot as plt\n",
        "\n",
        "%matplotlib inline\n",
        "%config InlineBackend.figure_format='retina'"
      ],
      "execution_count": 0,
      "outputs": []
    },
    {
      "metadata": {
        "id": "dX2EO5JZjk0r",
        "colab_type": "text"
      },
      "cell_type": "markdown",
      "source": [
        "# Load data from gDrive"
      ]
    },
    {
      "metadata": {
        "id": "UXRjRPZ8jrva",
        "colab_type": "code",
        "colab": {}
      },
      "cell_type": "code",
      "source": [
        "!pip install -U -q PyDrive\n",
        "from pydrive.auth import GoogleAuth\n",
        "from pydrive.drive import GoogleDrive\n",
        "from google.colab import auth\n",
        "from oauth2client.client import GoogleCredentials"
      ],
      "execution_count": 0,
      "outputs": []
    },
    {
      "metadata": {
        "id": "_pfUMCqzjtsc",
        "colab_type": "code",
        "colab": {}
      },
      "cell_type": "code",
      "source": [
        "# Authenticate and create the PyDrive client.\n",
        "auth.authenticate_user()\n",
        "gauth = GoogleAuth()\n",
        "gauth.credentials = GoogleCredentials.get_application_default()\n",
        "drive = GoogleDrive(gauth)"
      ],
      "execution_count": 0,
      "outputs": []
    },
    {
      "metadata": {
        "id": "yqCulrUSj28Q",
        "colab_type": "code",
        "colab": {}
      },
      "cell_type": "code",
      "source": [
        "downloaded = drive.CreateFile({'id':'1UcoQDxQe5MGruMUoD4013HrTz346OH8i'}) \n",
        "downloaded.GetContentFile('small_700_through_710_descr_clm_code.csv')  \n",
        "df = pd.read_csv('small_700_through_710_descr_clm_code.csv')\n",
        "# Dataset is now stored in a Pandas Dataframe"
      ],
      "execution_count": 0,
      "outputs": []
    },
    {
      "metadata": {
        "id": "Jle0jZFKkKnZ",
        "colab_type": "code",
        "colab": {}
      },
      "cell_type": "code",
      "source": [
        ""
      ],
      "execution_count": 0,
      "outputs": []
    },
    {
      "metadata": {
        "id": "mSxYssGikOoC",
        "colab_type": "text"
      },
      "cell_type": "markdown",
      "source": [
        "# Look at the data"
      ]
    },
    {
      "metadata": {
        "id": "v4iOwZktkX8C",
        "colab_type": "code",
        "outputId": "33b687c4-f154-49cf-b009-7d1466f14a2a",
        "colab": {
          "base_uri": "https://localhost:8080/",
          "height": 204
        }
      },
      "cell_type": "code",
      "source": [
        "df.head()"
      ],
      "execution_count": 27,
      "outputs": [
        {
          "output_type": "execute_result",
          "data": {
            "text/html": [
              "<div>\n",
              "<style scoped>\n",
              "    .dataframe tbody tr th:only-of-type {\n",
              "        vertical-align: middle;\n",
              "    }\n",
              "\n",
              "    .dataframe tbody tr th {\n",
              "        vertical-align: top;\n",
              "    }\n",
              "\n",
              "    .dataframe thead th {\n",
              "        text-align: right;\n",
              "    }\n",
              "</style>\n",
              "<table border=\"1\" class=\"dataframe\">\n",
              "  <thead>\n",
              "    <tr style=\"text-align: right;\">\n",
              "      <th></th>\n",
              "      <th>Unnamed: 0</th>\n",
              "      <th>descr</th>\n",
              "      <th>clm</th>\n",
              "      <th>code</th>\n",
              "    </tr>\n",
              "  </thead>\n",
              "  <tbody>\n",
              "    <tr>\n",
              "      <th>0</th>\n",
              "      <td>0</td>\n",
              "      <td>This application claims priority under 35 U.S....</td>\n",
              "      <td>What is claimed is: \\n     \\n         1 . A pr...</td>\n",
              "      <td>700</td>\n",
              "    </tr>\n",
              "    <tr>\n",
              "      <th>1</th>\n",
              "      <td>1</td>\n",
              "      <td>BACKGROUND \\n     1. Field of Invention \\n    ...</td>\n",
              "      <td>What is claimed is: \\n     \\n         1 . A st...</td>\n",
              "      <td>700</td>\n",
              "    </tr>\n",
              "    <tr>\n",
              "      <th>2</th>\n",
              "      <td>2</td>\n",
              "      <td>CROSS-REFERENCE TO RELATED APPLICATIONS \\n    ...</td>\n",
              "      <td>What is claimed is: \\n     \\n         1 . A me...</td>\n",
              "      <td>700</td>\n",
              "    </tr>\n",
              "    <tr>\n",
              "      <th>3</th>\n",
              "      <td>3</td>\n",
              "      <td>FIELD OF THE INVENTION \\n     The present inve...</td>\n",
              "      <td>1 . A method for state-transition-controlled p...</td>\n",
              "      <td>700</td>\n",
              "    </tr>\n",
              "    <tr>\n",
              "      <th>4</th>\n",
              "      <td>4</td>\n",
              "      <td>RELATED APPLICATION \\n     This application cl...</td>\n",
              "      <td>What is claimed is: \\n     \\n         1 . A me...</td>\n",
              "      <td>700</td>\n",
              "    </tr>\n",
              "  </tbody>\n",
              "</table>\n",
              "</div>"
            ],
            "text/plain": [
              "   Unnamed: 0                                              descr  \\\n",
              "0           0  This application claims priority under 35 U.S....   \n",
              "1           1  BACKGROUND \\n     1. Field of Invention \\n    ...   \n",
              "2           2  CROSS-REFERENCE TO RELATED APPLICATIONS \\n    ...   \n",
              "3           3  FIELD OF THE INVENTION \\n     The present inve...   \n",
              "4           4  RELATED APPLICATION \\n     This application cl...   \n",
              "\n",
              "                                                 clm  code  \n",
              "0  What is claimed is: \\n     \\n         1 . A pr...   700  \n",
              "1  What is claimed is: \\n     \\n         1 . A st...   700  \n",
              "2  What is claimed is: \\n     \\n         1 . A me...   700  \n",
              "3  1 . A method for state-transition-controlled p...   700  \n",
              "4  What is claimed is: \\n     \\n         1 . A me...   700  "
            ]
          },
          "metadata": {
            "tags": []
          },
          "execution_count": 27
        }
      ]
    },
    {
      "metadata": {
        "id": "VZDrHa2Ckbsl",
        "colab_type": "text"
      },
      "cell_type": "markdown",
      "source": [
        "I only want the claims. I also need to clean the text and remove things like '\\n'."
      ]
    },
    {
      "metadata": {
        "id": "WUiBJej1lL3u",
        "colab_type": "text"
      },
      "cell_type": "markdown",
      "source": [
        "# Clean Text"
      ]
    },
    {
      "metadata": {
        "id": "i-1wN1gjkYA4",
        "colab_type": "code",
        "colab": {}
      },
      "cell_type": "code",
      "source": [
        "def remove_string(dataframe,column_list,string_in_quotes):\n",
        "    '''\n",
        "    Input:\n",
        "            dataframe: name of pandas dataframe\n",
        "            column_list: list of column name strings (ex. ['col_1','col_2'])\n",
        "            string_in_quotes: string to remove in quotes (ex. ',')\n",
        "    \n",
        "    Output:\n",
        "            none\n",
        "            modifies pandas dataframe to remove string.\n",
        "                \n",
        "    Example:\n",
        "            remove_string(df, ['col_1','col_2'], ',')\n",
        "    \n",
        "    Warning:\n",
        "            If memory issues occur, limit to one column at a time.\n",
        "        \n",
        "    '''\n",
        "    for i in column_list:\n",
        "        dataframe[i] = dataframe[i].str.replace(string_in_quotes,\"\").astype(str)"
      ],
      "execution_count": 0,
      "outputs": []
    },
    {
      "metadata": {
        "id": "qWZV-XNCkYEH",
        "colab_type": "code",
        "colab": {}
      },
      "cell_type": "code",
      "source": [
        "remove_string(df,['clm'],'\\n')\n",
        "remove_string(df,['clm'],'                   ')\n",
        "remove_string(df,['clm'],'              ')\n",
        "df.clm = df.clm.str.replace(r'\\A(\\D+)', '') #remove words before first claim\n",
        "df.clm = df.clm.str.replace(r'\\d+ .', '') #remove the number and period before each sentence\n",
        "df.clm = df.clm.str.strip() #remove leading and trailing white spaces"
      ],
      "execution_count": 0,
      "outputs": []
    },
    {
      "metadata": {
        "id": "IN_r0NiilrhV",
        "colab_type": "code",
        "outputId": "e654fc2c-b3b4-48a2-e4bf-f873a523c602",
        "colab": {
          "base_uri": "https://localhost:8080/",
          "height": 204
        }
      },
      "cell_type": "code",
      "source": [
        "df.head()"
      ],
      "execution_count": 59,
      "outputs": [
        {
          "output_type": "execute_result",
          "data": {
            "text/html": [
              "<div>\n",
              "<style scoped>\n",
              "    .dataframe tbody tr th:only-of-type {\n",
              "        vertical-align: middle;\n",
              "    }\n",
              "\n",
              "    .dataframe tbody tr th {\n",
              "        vertical-align: top;\n",
              "    }\n",
              "\n",
              "    .dataframe thead th {\n",
              "        text-align: right;\n",
              "    }\n",
              "</style>\n",
              "<table border=\"1\" class=\"dataframe\">\n",
              "  <thead>\n",
              "    <tr style=\"text-align: right;\">\n",
              "      <th></th>\n",
              "      <th>Unnamed: 0</th>\n",
              "      <th>descr</th>\n",
              "      <th>clm</th>\n",
              "      <th>code</th>\n",
              "    </tr>\n",
              "  </thead>\n",
              "  <tbody>\n",
              "    <tr>\n",
              "      <th>0</th>\n",
              "      <td>0</td>\n",
              "      <td>This application claims priority under 35 U.S....</td>\n",
              "      <td>A programming template for developing an appli...</td>\n",
              "      <td>700</td>\n",
              "    </tr>\n",
              "    <tr>\n",
              "      <th>1</th>\n",
              "      <td>1</td>\n",
              "      <td>BACKGROUND \\n     1. Field of Invention \\n    ...</td>\n",
              "      <td>A state machine engine, comprising: a state ma...</td>\n",
              "      <td>700</td>\n",
              "    </tr>\n",
              "    <tr>\n",
              "      <th>2</th>\n",
              "      <td>2</td>\n",
              "      <td>CROSS-REFERENCE TO RELATED APPLICATIONS \\n    ...</td>\n",
              "      <td>A method of controlling a PLC digital output s...</td>\n",
              "      <td>700</td>\n",
              "    </tr>\n",
              "    <tr>\n",
              "      <th>3</th>\n",
              "      <td>3</td>\n",
              "      <td>FIELD OF THE INVENTION \\n     The present inve...</td>\n",
              "      <td>A method for state-transition-controlled proce...</td>\n",
              "      <td>700</td>\n",
              "    </tr>\n",
              "    <tr>\n",
              "      <th>4</th>\n",
              "      <td>4</td>\n",
              "      <td>RELATED APPLICATION \\n     This application cl...</td>\n",
              "      <td>A method of online and dynamic schedule config...</td>\n",
              "      <td>700</td>\n",
              "    </tr>\n",
              "  </tbody>\n",
              "</table>\n",
              "</div>"
            ],
            "text/plain": [
              "   Unnamed: 0                                              descr  \\\n",
              "0           0  This application claims priority under 35 U.S....   \n",
              "1           1  BACKGROUND \\n     1. Field of Invention \\n    ...   \n",
              "2           2  CROSS-REFERENCE TO RELATED APPLICATIONS \\n    ...   \n",
              "3           3  FIELD OF THE INVENTION \\n     The present inve...   \n",
              "4           4  RELATED APPLICATION \\n     This application cl...   \n",
              "\n",
              "                                                 clm  code  \n",
              "0  A programming template for developing an appli...   700  \n",
              "1  A state machine engine, comprising: a state ma...   700  \n",
              "2  A method of controlling a PLC digital output s...   700  \n",
              "3  A method for state-transition-controlled proce...   700  \n",
              "4  A method of online and dynamic schedule config...   700  "
            ]
          },
          "metadata": {
            "tags": []
          },
          "execution_count": 59
        }
      ]
    },
    {
      "metadata": {
        "id": "G3hV492AlzFC",
        "colab_type": "code",
        "outputId": "e09b1141-59ea-44e2-8083-87393126c4e2",
        "colab": {
          "base_uri": "https://localhost:8080/",
          "height": 54
        }
      },
      "cell_type": "code",
      "source": [
        "df.clm[2]"
      ],
      "execution_count": 60,
      "outputs": [
        {
          "output_type": "execute_result",
          "data": {
            "text/plain": [
              "'A method of controlling a PLC digital output signal, the method comprising: receiving the PLC digital output signal; and   interpolating a gradient of the PLC digital output signal by applying a nonlinear correction function to the received PLC digital output signal.    The method of  claim  wherein the interpolating of the gradient comprises interpolating the gradient by setting at least one of an interpolation frequency, a target value and a scan time.  The method of  claim  wherein the nonlinear correction function comprises a sigmoid function.  The method of  claim  further comprising: selecting at least one channel according to a user input, wherein the interpolating of the gradient is performed only when a digital-analog conversion and an interpolation are allowed in the selected channel.    The method of  claim  further comprising: performing an interpolation by applying a linear correction function to adjust an offset gain of the PLC digital output signal to which the nonlinear correction function is applied.    An apparatus for controlling a PLC digital output signal, the apparatus comprising: a calculation unit to calculate a value of a signal to be actually output;   an interpolation unit to interpolate a signal by applying a nonlinear correction function;   a conversion unit to convert a digital signal into an analog signal; and   a control unit that controls the calculation unit such that the PLC digital output signal is calculated as an actual output value, controls the interpolation unit to apply the nonlinear correction function to the PLC digital output signal calculated in the calculation unit, and controls the conversion unit to convert the PLC digital output signal interpolated in the interpolation unit into a PLC analog output signal.    The apparatus of  claim  wherein the interpolation unit interpolates the PLC digital output signal calculated in the calculation unit by setting at least one of an interpolation frequency, a target value and a scan time.  The apparatus of  claim  wherein the nonlinear correction function used in the interpolation unit comprises a sigmoid function.  The apparatus of  claim  further comprising: a channel unit to transmit the PLC digital output signal to an external device; and   a user input unit to receive a user input for selecting at least one channel,   wherein the control unit selects at least one channel according to the user input, determines whether a digital-analog conversion and an interpolation are allowed in the selected channel, and controls the calculation unit, the interpolation unit and the conversion unit only when the digital-analog conversion and the interpolation are allowed in the selected channel.    The apparatus of  claim  wherein the interpolation unit performs an interpolation by applying a linear correction function to adjust an offset gain of the PLC digital output signal to which the nonlinear correction function is applied.'"
            ]
          },
          "metadata": {
            "tags": []
          },
          "execution_count": 60
        }
      ]
    },
    {
      "metadata": {
        "id": "j2Dm8FLaixGo",
        "colab_type": "text"
      },
      "cell_type": "markdown",
      "source": [
        "There is no need to split the sentence into a tokenized list because gensim does the splitting using the built-in split_sentences() method in the gensim.summarization.texcleaner module."
      ]
    },
    {
      "metadata": {
        "id": "Yn-wJBsDmiO4",
        "colab_type": "text"
      },
      "cell_type": "markdown",
      "source": [
        "# Text Summarization trial 1"
      ]
    },
    {
      "metadata": {
        "id": "udP2xxopnHAq",
        "colab_type": "text"
      },
      "cell_type": "markdown",
      "source": [
        "Gensim implements the **textrank** summarization using the **summarize()** function in the summarization module. All you need to do is to pass in the text string along with either the output summarization ratio or the maximum count of words in the summarized output.\n",
        "\n",
        "There is no need to split the sentence into a tokenized list because gensim does the splitting using the built-in split_sentences() method in the **gensim.summarization.texcleaner** module."
      ]
    },
    {
      "metadata": {
        "id": "wpuHgYXHiyRC",
        "colab_type": "code",
        "outputId": "d8e25304-24d7-419b-b256-daff59033e9c",
        "colab": {
          "base_uri": "https://localhost:8080/",
          "height": 68
        }
      },
      "cell_type": "code",
      "source": [
        "text = df.clm[2]\n",
        "pprint(summarize(text, word_count=20))"
      ],
      "execution_count": 61,
      "outputs": [
        {
          "output_type": "stream",
          "text": [
            "('The method of  claim  further comprising: performing an interpolation by '\n",
            " 'applying a linear correction function to adjust an offset gain of the PLC '\n",
            " 'digital output signal to which the nonlinear correction function is applied.')\n"
          ],
          "name": "stdout"
        }
      ]
    },
    {
      "metadata": {
        "id": "Vu-skANen_Dw",
        "colab_type": "code",
        "outputId": "a207e88a-d088-4e68-c64f-72de89a86993",
        "colab": {
          "base_uri": "https://localhost:8080/",
          "height": 221
        }
      },
      "cell_type": "code",
      "source": [
        "print(keywords(text))"
      ],
      "execution_count": 62,
      "outputs": [
        {
          "output_type": "stream",
          "text": [
            "comprising\n",
            "comprises\n",
            "unit\n",
            "output\n",
            "signal\n",
            "correction\n",
            "analog\n",
            "interpolating\n",
            "interpolation\n",
            "interpolate\n",
            "interpolated\n",
            "interpolates\n"
          ],
          "name": "stdout"
        }
      ]
    },
    {
      "metadata": {
        "id": "Lwu68aRDobi8",
        "colab_type": "text"
      },
      "cell_type": "markdown",
      "source": [
        "# Text Summarization trial 2\n",
        "Increase number of words from 20 to 150 words (the max for a patent abstract)"
      ]
    },
    {
      "metadata": {
        "id": "cUHpCfBfoOen",
        "colab_type": "code",
        "outputId": "3246a6e1-0b89-4ac8-c32c-f078b7e24afe",
        "colab": {
          "base_uri": "https://localhost:8080/",
          "height": 122
        }
      },
      "cell_type": "code",
      "source": [
        "text = df.clm[2]\n",
        "print(summarize(text, word_count=150))"
      ],
      "execution_count": 63,
      "outputs": [
        {
          "output_type": "stream",
          "text": [
            "The method of  claim  wherein the interpolating of the gradient comprises interpolating the gradient by setting at least one of an interpolation frequency, a target value and a scan time.\n",
            "The method of  claim  further comprising: performing an interpolation by applying a linear correction function to adjust an offset gain of the PLC digital output signal to which the nonlinear correction function is applied.\n",
            "The apparatus of  claim  wherein the interpolation unit interpolates the PLC digital output signal calculated in the calculation unit by setting at least one of an interpolation frequency, a target value and a scan time.\n",
            "The apparatus of  claim  wherein the nonlinear correction function used in the interpolation unit comprises a sigmoid function.\n",
            "The apparatus of  claim  wherein the interpolation unit performs an interpolation by applying a linear correction function to adjust an offset gain of the PLC digital output signal to which the nonlinear correction function is applied.\n"
          ],
          "name": "stdout"
        }
      ]
    },
    {
      "metadata": {
        "id": "qFTwNtMmp8Gi",
        "colab_type": "text"
      },
      "cell_type": "markdown",
      "source": [
        "# That wasn't great"
      ]
    },
    {
      "metadata": {
        "id": "gGapvIecqa5H",
        "colab_type": "text"
      },
      "cell_type": "markdown",
      "source": [
        "# Text Summarization trial 3\n",
        "textrank"
      ]
    },
    {
      "metadata": {
        "id": "hC5xxzQ1o2Pm",
        "colab_type": "code",
        "colab": {
          "base_uri": "https://localhost:8080/",
          "height": 51
        },
        "outputId": "251f319b-e561-42f6-c5eb-3e25a144e81a"
      },
      "cell_type": "code",
      "source": [
        "import nltk\n",
        "nltk.download('punkt') # one time execution\n",
        "import re"
      ],
      "execution_count": 64,
      "outputs": [
        {
          "output_type": "stream",
          "text": [
            "[nltk_data] Downloading package punkt to /root/nltk_data...\n",
            "[nltk_data]   Package punkt is already up-to-date!\n"
          ],
          "name": "stdout"
        }
      ]
    },
    {
      "metadata": {
        "id": "u-wqULgFrBuY",
        "colab_type": "code",
        "colab": {}
      },
      "cell_type": "code",
      "source": [
        "from nltk.tokenize import sent_tokenize"
      ],
      "execution_count": 0,
      "outputs": []
    },
    {
      "metadata": {
        "id": "z_kYcB4lvO0P",
        "colab_type": "code",
        "colab": {}
      },
      "cell_type": "code",
      "source": [
        "sentences = []\n",
        "\n",
        "for s in df.clm[2].split('.'):\n",
        "  s = s.strip()\n",
        "  sentences.append(sent_tokenize(s))\n",
        "  \n"
      ],
      "execution_count": 0,
      "outputs": []
    },
    {
      "metadata": {
        "id": "81petMo-wmyt",
        "colab_type": "code",
        "colab": {
          "base_uri": "https://localhost:8080/",
          "height": 122
        },
        "outputId": "ab5cd635-f8b5-4adb-df08-2d3c7369c818"
      },
      "cell_type": "code",
      "source": [
        "sentences[:5]"
      ],
      "execution_count": 71,
      "outputs": [
        {
          "output_type": "execute_result",
          "data": {
            "text/plain": [
              "[['A method of controlling a PLC digital output signal, the method comprising: receiving the PLC digital output signal; and   interpolating a gradient of the PLC digital output signal by applying a nonlinear correction function to the received PLC digital output signal'],\n",
              " ['The method of  claim  wherein the interpolating of the gradient comprises interpolating the gradient by setting at least one of an interpolation frequency, a target value and a scan time'],\n",
              " ['The method of  claim  wherein the nonlinear correction function comprises a sigmoid function'],\n",
              " ['The method of  claim  further comprising: selecting at least one channel according to a user input, wherein the interpolating of the gradient is performed only when a digital-analog conversion and an interpolation are allowed in the selected channel'],\n",
              " ['The method of  claim  further comprising: performing an interpolation by applying a linear correction function to adjust an offset gain of the PLC digital output signal to which the nonlinear correction function is applied']]"
            ]
          },
          "metadata": {
            "tags": []
          },
          "execution_count": 71
        }
      ]
    },
    {
      "metadata": {
        "id": "1FchWDzYwtxc",
        "colab_type": "code",
        "colab": {}
      },
      "cell_type": "code",
      "source": [
        "sentences = [y for x in sentences for y in x] # flatten list"
      ],
      "execution_count": 0,
      "outputs": []
    },
    {
      "metadata": {
        "id": "5ncO3KqKxD3f",
        "colab_type": "code",
        "colab": {
          "base_uri": "https://localhost:8080/",
          "height": 122
        },
        "outputId": "5ad5f991-e74e-4b41-e2a2-d520d70ec252"
      },
      "cell_type": "code",
      "source": [
        "sentences[:5]"
      ],
      "execution_count": 73,
      "outputs": [
        {
          "output_type": "execute_result",
          "data": {
            "text/plain": [
              "['A method of controlling a PLC digital output signal, the method comprising: receiving the PLC digital output signal; and   interpolating a gradient of the PLC digital output signal by applying a nonlinear correction function to the received PLC digital output signal',\n",
              " 'The method of  claim  wherein the interpolating of the gradient comprises interpolating the gradient by setting at least one of an interpolation frequency, a target value and a scan time',\n",
              " 'The method of  claim  wherein the nonlinear correction function comprises a sigmoid function',\n",
              " 'The method of  claim  further comprising: selecting at least one channel according to a user input, wherein the interpolating of the gradient is performed only when a digital-analog conversion and an interpolation are allowed in the selected channel',\n",
              " 'The method of  claim  further comprising: performing an interpolation by applying a linear correction function to adjust an offset gain of the PLC digital output signal to which the nonlinear correction function is applied']"
            ]
          },
          "metadata": {
            "tags": []
          },
          "execution_count": 73
        }
      ]
    },
    {
      "metadata": {
        "id": "R3VrF64py3s_",
        "colab_type": "text"
      },
      "cell_type": "markdown",
      "source": [
        "## Download GloVe Word Embeddings"
      ]
    },
    {
      "metadata": {
        "id": "FGUmo5rZyybT",
        "colab_type": "code",
        "colab": {
          "base_uri": "https://localhost:8080/",
          "height": 357
        },
        "outputId": "407d5ac1-ad3a-4f4e-e13b-df856f5f31b8"
      },
      "cell_type": "code",
      "source": [
        "!wget http://nlp.stanford.edu/data/glove.6B.zip\n",
        "!unzip glove*.zip"
      ],
      "execution_count": 74,
      "outputs": [
        {
          "output_type": "stream",
          "text": [
            "--2019-03-26 16:18:42--  http://nlp.stanford.edu/data/glove.6B.zip\n",
            "Resolving nlp.stanford.edu (nlp.stanford.edu)... 171.64.67.140\n",
            "Connecting to nlp.stanford.edu (nlp.stanford.edu)|171.64.67.140|:80... connected.\n",
            "HTTP request sent, awaiting response... 302 Found\n",
            "Location: https://nlp.stanford.edu/data/glove.6B.zip [following]\n",
            "--2019-03-26 16:18:42--  https://nlp.stanford.edu/data/glove.6B.zip\n",
            "Connecting to nlp.stanford.edu (nlp.stanford.edu)|171.64.67.140|:443... connected.\n",
            "HTTP request sent, awaiting response... 200 OK\n",
            "Length: 862182613 (822M) [application/zip]\n",
            "Saving to: ‘glove.6B.zip’\n",
            "\n",
            "glove.6B.zip        100%[===================>] 822.24M  16.8MB/s    in 75s     \n",
            "\n",
            "2019-03-26 16:19:57 (11.0 MB/s) - ‘glove.6B.zip’ saved [862182613/862182613]\n",
            "\n",
            "Archive:  glove.6B.zip\n",
            "  inflating: glove.6B.50d.txt        \n",
            "  inflating: glove.6B.100d.txt       \n",
            "  inflating: glove.6B.200d.txt       \n",
            "  inflating: glove.6B.300d.txt       \n"
          ],
          "name": "stdout"
        }
      ]
    },
    {
      "metadata": {
        "id": "NDnYc807y-_u",
        "colab_type": "code",
        "colab": {}
      },
      "cell_type": "code",
      "source": [
        "# Extract word vectors\n",
        "word_embeddings = {}\n",
        "\n",
        "f = open('glove.6B.100d.txt', encoding='utf-8')\n",
        "\n",
        "for line in f:\n",
        "  values = line.split()\n",
        "  word = values[0]\n",
        "  coefs = np.asarray(values[1:], dtype='float32')\n",
        "  word_embeddings[word]= coefs\n",
        "\n",
        "f.close()"
      ],
      "execution_count": 0,
      "outputs": []
    },
    {
      "metadata": {
        "id": "uJwjpk0Dz78w",
        "colab_type": "code",
        "colab": {
          "base_uri": "https://localhost:8080/",
          "height": 34
        },
        "outputId": "6e9dceb9-88d4-4d28-ce11-38a6f38fe977"
      },
      "cell_type": "code",
      "source": [
        "len(word_embeddings)"
      ],
      "execution_count": 76,
      "outputs": [
        {
          "output_type": "execute_result",
          "data": {
            "text/plain": [
              "400000"
            ]
          },
          "metadata": {
            "tags": []
          },
          "execution_count": 76
        }
      ]
    },
    {
      "metadata": {
        "id": "wbTOBP-70EJE",
        "colab_type": "text"
      },
      "cell_type": "markdown",
      "source": [
        "word vectors for 400,000 terms stored in the dictionary - 'word_embeddings'"
      ]
    },
    {
      "metadata": {
        "id": "dNw6dN5d0Rly",
        "colab_type": "text"
      },
      "cell_type": "markdown",
      "source": [
        "## Text Preprocessing"
      ]
    },
    {
      "metadata": {
        "id": "7naZbJ_W0B1d",
        "colab_type": "code",
        "colab": {}
      },
      "cell_type": "code",
      "source": [
        "# remove punctuations, numbers, and special characters from each sentence\n",
        "clean_sentences = pd.Series(sentences).str.replace(\"[^a-zA-Z]\",\" \")\n",
        "\n",
        "# make alphabets lowercase\n",
        "clean_sentences = [s.lower() for s in clean_sentences]"
      ],
      "execution_count": 0,
      "outputs": []
    },
    {
      "metadata": {
        "id": "Myq2acUW0wDJ",
        "colab_type": "code",
        "colab": {
          "base_uri": "https://localhost:8080/",
          "height": 68
        },
        "outputId": "a92299fc-8a85-4e3a-f666-488d9f92c8bc"
      },
      "cell_type": "code",
      "source": [
        "# get rid of stopwords\n",
        "nltk.download('stopwords')"
      ],
      "execution_count": 78,
      "outputs": [
        {
          "output_type": "stream",
          "text": [
            "[nltk_data] Downloading package stopwords to /root/nltk_data...\n",
            "[nltk_data]   Unzipping corpora/stopwords.zip.\n"
          ],
          "name": "stdout"
        },
        {
          "output_type": "execute_result",
          "data": {
            "text/plain": [
              "True"
            ]
          },
          "metadata": {
            "tags": []
          },
          "execution_count": 78
        }
      ]
    },
    {
      "metadata": {
        "id": "zYaac9nk00V5",
        "colab_type": "code",
        "colab": {}
      },
      "cell_type": "code",
      "source": [
        "from nltk.corpus import stopwords\n",
        "stop_words = stopwords.words('english')"
      ],
      "execution_count": 0,
      "outputs": []
    },
    {
      "metadata": {
        "id": "oMQhEZpU06mz",
        "colab_type": "code",
        "colab": {}
      },
      "cell_type": "code",
      "source": [
        "def remove_stopwords(sen):\n",
        "  sen_new = \" \".join([i for i in sen if i not in stop_words])\n",
        "  return sen_new"
      ],
      "execution_count": 0,
      "outputs": []
    },
    {
      "metadata": {
        "id": "wrDbigkG1Gnb",
        "colab_type": "code",
        "colab": {}
      },
      "cell_type": "code",
      "source": [
        "clean_sentences = [remove_stopwords(r.split()) for r in clean_sentences]"
      ],
      "execution_count": 0,
      "outputs": []
    },
    {
      "metadata": {
        "id": "XibCzMYi1Pkn",
        "colab_type": "text"
      },
      "cell_type": "markdown",
      "source": [
        "## Vector Representation of Sentences"
      ]
    },
    {
      "metadata": {
        "id": "pxvD3gfL1OWU",
        "colab_type": "code",
        "colab": {}
      },
      "cell_type": "code",
      "source": [
        "# create vectors for our sentences\n",
        "# word vectors were created above\n",
        "\n",
        "sentence_vectors = []\n",
        "\n",
        "for i in clean_sentences:\n",
        "  if len(i) != 0:\n",
        "    v = sum([word_embeddings.get(w, np.zeros((100,))) for w in i.split()])/(len(i.split())+0.001)\n",
        "  else:\n",
        "    v = np.zeros((100,))\n",
        "  sentence_vectors.append(v)"
      ],
      "execution_count": 0,
      "outputs": []
    },
    {
      "metadata": {
        "id": "yS87J2S-2Tp5",
        "colab_type": "text"
      },
      "cell_type": "markdown",
      "source": [
        "## Similarity Matrix Preparation using Cosine Similarity\n",
        "The next step is to find similarities between the sentences, and we will use the cosine similarity approach for this challenge."
      ]
    },
    {
      "metadata": {
        "id": "09IaKTjb2R0O",
        "colab_type": "code",
        "colab": {}
      },
      "cell_type": "code",
      "source": [
        "# similarity matrix\n",
        "sim_mat = np.zeros([len(sentences), len(sentences)])"
      ],
      "execution_count": 0,
      "outputs": []
    },
    {
      "metadata": {
        "id": "4VNf8MyX2jsh",
        "colab_type": "code",
        "colab": {}
      },
      "cell_type": "code",
      "source": [
        "from sklearn.metrics.pairwise import cosine_similarity"
      ],
      "execution_count": 0,
      "outputs": []
    },
    {
      "metadata": {
        "id": "22NVmyfr2pkx",
        "colab_type": "code",
        "colab": {}
      },
      "cell_type": "code",
      "source": [
        "for i in range(len(sentences)):\n",
        "  for j in range(len(sentences)):\n",
        "    if i != j:\n",
        "      sim_mat[i][j] = cosine_similarity(sentence_vectors[i].reshape(1,100), sentence_vectors[j].reshape(1,100))[0,0]"
      ],
      "execution_count": 0,
      "outputs": []
    },
    {
      "metadata": {
        "id": "7MyVx7an2-46",
        "colab_type": "text"
      },
      "cell_type": "markdown",
      "source": [
        "## Applying PageRank Algorithm"
      ]
    },
    {
      "metadata": {
        "id": "wnmqu1we28-y",
        "colab_type": "code",
        "colab": {}
      },
      "cell_type": "code",
      "source": [
        "import networkx as nx"
      ],
      "execution_count": 0,
      "outputs": []
    },
    {
      "metadata": {
        "id": "_ZTbyA593D9r",
        "colab_type": "code",
        "colab": {}
      },
      "cell_type": "code",
      "source": [
        "nx_graph = nx.from_numpy_array(sim_mat)\n",
        "scores = nx.pagerank(nx_graph)"
      ],
      "execution_count": 0,
      "outputs": []
    },
    {
      "metadata": {
        "id": "pNpJn7sO3OD5",
        "colab_type": "text"
      },
      "cell_type": "markdown",
      "source": [
        "## Summary Extraction\n",
        "extract top N sentences based on their rankings for summary generation"
      ]
    },
    {
      "metadata": {
        "id": "oMm6C9-N3Mlq",
        "colab_type": "code",
        "colab": {}
      },
      "cell_type": "code",
      "source": [
        "ranked_sentences = sorted(((scores[i],s) for i,s in enumerate(sentences)), reverse=True)"
      ],
      "execution_count": 0,
      "outputs": []
    },
    {
      "metadata": {
        "id": "919IwW_z3fJi",
        "colab_type": "code",
        "colab": {
          "base_uri": "https://localhost:8080/",
          "height": 207
        },
        "outputId": "f98f8c78-268c-4092-81dc-e91bcf31c59b"
      },
      "cell_type": "code",
      "source": [
        "# Extract top 10 sentences as a summary\n",
        "for i in range(10):\n",
        "  print(ranked_sentences[i][1])"
      ],
      "execution_count": 89,
      "outputs": [
        {
          "output_type": "stream",
          "text": [
            "The apparatus of  claim  wherein the interpolation unit performs an interpolation by applying a linear correction function to adjust an offset gain of the PLC digital output signal to which the nonlinear correction function is applied\n",
            "The method of  claim  further comprising: performing an interpolation by applying a linear correction function to adjust an offset gain of the PLC digital output signal to which the nonlinear correction function is applied\n",
            "The apparatus of  claim  wherein the interpolation unit interpolates the PLC digital output signal calculated in the calculation unit by setting at least one of an interpolation frequency, a target value and a scan time\n",
            "An apparatus for controlling a PLC digital output signal, the apparatus comprising: a calculation unit to calculate a value of a signal to be actually output;   an interpolation unit to interpolate a signal by applying a nonlinear correction function;   a conversion unit to convert a digital signal into an analog signal; and   a control unit that controls the calculation unit such that the PLC digital output signal is calculated as an actual output value, controls the interpolation unit to apply the nonlinear correction function to the PLC digital output signal calculated in the calculation unit, and controls the conversion unit to convert the PLC digital output signal interpolated in the interpolation unit into a PLC analog output signal\n",
            "The apparatus of  claim  further comprising: a channel unit to transmit the PLC digital output signal to an external device; and   a user input unit to receive a user input for selecting at least one channel,   wherein the control unit selects at least one channel according to the user input, determines whether a digital-analog conversion and an interpolation are allowed in the selected channel, and controls the calculation unit, the interpolation unit and the conversion unit only when the digital-analog conversion and the interpolation are allowed in the selected channel\n",
            "The method of  claim  wherein the interpolating of the gradient comprises interpolating the gradient by setting at least one of an interpolation frequency, a target value and a scan time\n",
            "The method of  claim  further comprising: selecting at least one channel according to a user input, wherein the interpolating of the gradient is performed only when a digital-analog conversion and an interpolation are allowed in the selected channel\n",
            "A method of controlling a PLC digital output signal, the method comprising: receiving the PLC digital output signal; and   interpolating a gradient of the PLC digital output signal by applying a nonlinear correction function to the received PLC digital output signal\n",
            "The apparatus of  claim  wherein the nonlinear correction function used in the interpolation unit comprises a sigmoid function\n",
            "The method of  claim  wherein the nonlinear correction function comprises a sigmoid function\n"
          ],
          "name": "stdout"
        }
      ]
    },
    {
      "metadata": {
        "id": "42mDdrJV4JDg",
        "colab_type": "text"
      },
      "cell_type": "markdown",
      "source": [
        "## Not great either."
      ]
    },
    {
      "metadata": {
        "id": "EkpeiXdf-0QW",
        "colab_type": "code",
        "colab": {}
      },
      "cell_type": "code",
      "source": [
        ""
      ],
      "execution_count": 0,
      "outputs": []
    }
  ]
}
